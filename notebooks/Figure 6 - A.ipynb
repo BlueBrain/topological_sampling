{
 "cells": [
  {
   "cell_type": "code",
   "execution_count": 31,
   "metadata": {
    "scrolled": true
   },
   "outputs": [],
   "source": [
    "import numpy\n",
    "import h5py\n",
    "import pandas\n",
    "\n",
    "from toposample import TopoData, Config\n",
    "from toposample.data import read_h5_dataset\n",
    "\n",
    "from matplotlib import pyplot as plt\n",
    "from mpl_toolkits.mplot3d import Axes3D\n",
    "from figure_helper import FigureHelper\n",
    "\n",
    "\"\"\"\n",
    "Main config file. This file specifies the paths to all the result files and allows us to read the results.\n",
    "\"\"\"\n",
    "cfg = Config(\"../working_dir_mn_sz50/config/common_config.json\")\n",
    "\n",
    "fn_db_metrics = cfg._cfg['analyzed']['database']\n",
    "fn_control1 = \"additional_data/control_coupling_coefficients_randomized.npy\"\n",
    "fn_control2 = \"additional_data/control_coupling_coefficients_shuffled.npy\"\n",
    "\n",
    "fhlpr = FigureHelper()\n",
    "F = fhlpr(\"Figure 5\")\n",
    "S = fhlpr(\"Figure S5\")\n",
    "#topo_db = pandas.read_pickle(fn_db_metrics)"
   ]
  },
  {
   "cell_type": "code",
   "execution_count": 37,
   "metadata": {},
   "outputs": [
    {
     "data": {
      "image/png": "[encoded data removed]",
      "text/plain": [
       "<Figure size 216x180 with 1 Axes>"
      ]
     },
     "metadata": {
      "needs_background": "light"
     },
     "output_type": "display_data"
    }
   ],
   "source": [
    "data_cc = topo_db[\"comm_coupling\"]\n",
    "ctrl_cc1 = numpy.load(fn_control1)\n",
    "ctrl_cc2 = numpy.load(fn_control2)\n",
    "\n",
    "cc_bins = numpy.linspace(-0.1, 0.5, 21)\n",
    "plot_bins = (cc_bins[:-1] + cc_bins[1:]) / 2.0\n",
    "\n",
    "hist_data_cc = numpy.histogram(data_cc.values, bins=cc_bins, density=True)[0]\n",
    "hist_ctrl_cc1 = numpy.vstack([numpy.histogram(_cc, bins=cc_bins, density=True)[0]\n",
    "                              for _cc in ctrl_cc1])\n",
    "hist_ctrl_cc2 = numpy.vstack([numpy.histogram(_cc, bins=cc_bins, density=True)[0]\n",
    "                              for _cc in ctrl_cc2])\n",
    "\n",
    "hist_ctrl_mn1 = numpy.nanmean(hist_ctrl_cc1, axis=0)\n",
    "hist_ctrl_sd1 = numpy.nanstd(hist_ctrl_cc1, axis=0)\n",
    "hist_ctrl_mn2 = numpy.nanmean(hist_ctrl_cc2, axis=0)\n",
    "hist_ctrl_sd2 = numpy.nanstd(hist_ctrl_cc2, axis=0)\n",
    "\n",
    "def normalize_height(input_data):\n",
    "    return input_data / input_data.max()\n",
    "\n",
    "fig = plt.figure(figsize=(3.0, 2.5))\n",
    "ax = fig.gca()\n",
    "ax.errorbar(plot_bins, normalize_height(hist_ctrl_mn1), yerr=hist_ctrl_sd1,\n",
    "            lw=0.75, color=\"grey\", label=\"Shuffled\")\n",
    "ax.errorbar(plot_bins, normalize_height(hist_ctrl_mn2), yerr=hist_ctrl_sd2,\n",
    "            lw=0.75,\n",
    "            color=\"black\", label=\"Shuffled (keep firing rates)\")\n",
    "ax.plot(plot_bins, normalize_height(hist_data_cc), color=\"blue\", label=\"Data\")\n",
    "\n",
    "ax.set_xlabel(\"Coupling coefficient\")\n",
    "ax.set_yticks([])\n",
    "ax.set_ylim([0, 1.0])\n",
    "plt.box(False)\n",
    "plt.legend()\n",
    "\n",
    "F.save(fig, \"Panel-AA\")"
   ]
  },
  {
   "cell_type": "code",
   "execution_count": null,
   "metadata": {},
   "outputs": [],
   "source": []
  }
 ],
 "metadata": {
  "kernelspec": {
   "display_name": "topological_sampling",
   "language": "python",
   "name": "topological_sampling"
  },
  "language_info": {
   "codemirror_mode": {
    "name": "ipython",
    "version": 3
   },
   "file_extension": ".py",
   "mimetype": "text/x-python",
   "name": "python",
   "nbconvert_exporter": "python",
   "pygments_lexer": "ipython3",
   "version": "3.8.2"
  }
 },
 "nbformat": 4,
 "nbformat_minor": 2
}
