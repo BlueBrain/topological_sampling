{
 "cells": [
  {
   "cell_type": "markdown",
   "metadata": {},
   "source": [
    "## Figure 7\n",
    "\n",
    "Analysis of feature correlation in topological featurization and use of featurization by extracting the largest subtribes in volumetric samples"
   ]
  },
  {
   "cell_type": "code",
   "execution_count": null,
   "metadata": {},
   "outputs": [],
   "source": [
    "from toposample import Config, data\n",
    "import json\n",
    "import h5py\n",
    "import numpy as np\n",
    "\n",
    "\"\"\"\n",
    "Paths to relevant data.\n",
    "\"\"\"\n",
    "cfg = Config(\"../working_dir/config/common_config.json\")\n",
    "features_fn = cfg._cfg['analyzed']['features']\n"
   ]
  },
  {
   "cell_type": "code",
   "execution_count": null,
   "metadata": {},
   "outputs": [],
   "source": [
    "\"\"\"\n",
    "Helper functions\n",
    "\"\"\"\n",
    "\n",
    "def load_features(ftr_file, strat):\n",
    "    \n",
    "    with open(ftr_file, 'r') as fid:\n",
    "        ftr_res = json.load(fid)\n",
    "    \n",
    "    specs = sorted(ftr_res[strat].keys())\n",
    "    ftr_values = []\n",
    "    for spec in specs:\n",
    "        ftr_fn = ftr_res[strat][spec]['0']['data_fn'] # Assume that samples are pooled to single element at index '0' for featurization-based results\n",
    "        with h5py.File(ftr_fn, 'r') as ftr_file:\n",
    "            stim_names = list(ftr_file['per_stimulus'].keys())\n",
    "            ftr_per_stim = [np.array(ftr_file['per_stimulus'][stim]) for stim in stim_names]\n",
    "            ftr_values.append(np.concatenate(ftr_per_stim, 2)) # Pool all stimuli together\n",
    "    \n",
    "    spec_idx = np.array([spec.split('@') for spec in specs])\n",
    "    spec_names, spec_inv = np.unique(spec_idx[:, 0], return_inverse=True)\n",
    "    spec_idx[:, 0] = spec_inv\n",
    "    spec_idx = spec_idx.astype(int)\n",
    "    \n",
    "    return ftr_values, spec_names, spec_idx"
   ]
  },
  {
   "cell_type": "code",
   "execution_count": null,
   "metadata": {},
   "outputs": [],
   "source": [
    "\"\"\"\n",
    "Loading the data\n",
    "\"\"\"\n",
    "\n",
    "# Features (Euler characteristic values)\n",
    "ftr_volumetric, ftr_specs_volumetric, ftr_specs_idx_volumetric = load_features(features_fn, 'Radius')\n",
    "assert ftr_specs_idx_volumetric.shape[1]==1, 'ERROR: No sub-indices expected for volumetric samples!'\n",
    "\n",
    "ftr_subtribes, ftr_specs_subtribes, ftr_specs_idx_subtribes = load_features(features_fn, 'subtribes')\n",
    "assert np.all(ftr_specs_volumetric == ftr_specs_subtribes), 'ERROR: Specifier mismatch!' # Consistency check\n",
    "\n",
    "# ftr_parametric...TODO\n",
    "\n",
    "# Accuracies\n",
    "# TODO\n"
   ]
  },
  {
   "cell_type": "code",
   "execution_count": null,
   "metadata": {},
   "outputs": [],
   "source": [
    "\"\"\"\n",
    "Some analysis of the data\n",
    "\"\"\"\n",
    "\n",
    "# Feature (Euler characteristic) correlation\n",
    "ec_cc_volumetric = [[np.corrcoef(ftr_volumetric[spidx][:, :, trial].T) for trial in range(ftr_volumetric[spidx].shape[2])] for spidx in range(len(ftr_volumetric))] # Correlation within single trials\n",
    "ec_mcc_volumetric = [np.nanmean(ec_cc_volumetric[spidx], 0) for spidx in range(len(ftr_volumetric))] # Mean over trials\n",
    "ec_mmcc_volumetric = [np.sum(np.triu(ec_mcc_volumetric[spidx], 1)) / ((np.prod(ec_mcc_volumetric[spidx].shape) - ec_mcc_volumetric[spidx].shape[0]) / 2) for spidx in range(len(ftr_volumetric))] # Mean over pairs\n",
    "\n",
    "ec_cc_subtribes = [[np.corrcoef(ftr_subtribes[spidx][:, :, trial].T) for trial in range(ftr_subtribes[spidx].shape[2])] for spidx in range(len(ftr_subtribes))] # Correlation within single trials\n",
    "ec_mcc_subtribes = [np.nanmean(ec_cc_subtribes[spidx], 0) for spidx in range(len(ftr_subtribes))] # Mean over trials\n",
    "ec_mmcc_subtribes = [np.sum(np.triu(ec_mcc_subtribes[spidx], 1)) / ((np.prod(ec_mcc_subtribes[spidx].shape) - ec_mcc_subtribes[spidx].shape[0]) / 2) for spidx in range(len(ftr_subtribes))] # Mean over pairs\n",
    "\n",
    "# ec_cc_parametric...TODO"
   ]
  },
  {
   "cell_type": "code",
   "execution_count": null,
   "metadata": {},
   "outputs": [],
   "source": [
    "\"\"\"\n",
    "Panel A: Two examples of sets of tribes with uncorrelated and highly correlated features\n",
    "\"\"\"\n",
    "# To be added..."
   ]
  },
  {
   "cell_type": "code",
   "execution_count": null,
   "metadata": {},
   "outputs": [],
   "source": [
    "\"\"\"\n",
    "Panel B: Average feature correlation for champion and volumetric samples\n",
    "\"\"\"\n",
    "# To be added..."
   ]
  },
  {
   "cell_type": "code",
   "execution_count": null,
   "metadata": {},
   "outputs": [],
   "source": [
    "\"\"\"\n",
    "Panel C: High average correlation leads to poor classification\n",
    "\"\"\"\n",
    "# To be added..."
   ]
  },
  {
   "cell_type": "code",
   "execution_count": null,
   "metadata": {},
   "outputs": [],
   "source": [
    "\"\"\"\n",
    "Panel D: Overview of accuracies when using the largest 25 subtribes in volumetric samples\n",
    "\"\"\"\n",
    "# To be added..."
   ]
  },
  {
   "cell_type": "code",
   "execution_count": null,
   "metadata": {},
   "outputs": [],
   "source": [
    "\"\"\"\n",
    "Panel E: Feature correlation vs accuracy based on subtribes in volumetric samples\n",
    "\"\"\"\n",
    "# To be added..."
   ]
  },
  {
   "cell_type": "code",
   "execution_count": null,
   "metadata": {},
   "outputs": [],
   "source": []
  }
 ],
 "metadata": {
  "kernelspec": {
   "display_name": "ToposampleKernel",
   "language": "python",
   "name": "toposamplekernel"
  },
  "language_info": {
   "codemirror_mode": {
    "name": "ipython",
    "version": 3
   },
   "file_extension": ".py",
   "mimetype": "text/x-python",
   "name": "python",
   "nbconvert_exporter": "python",
   "pygments_lexer": "ipython3",
   "version": "3.7.4"
  }
 },
 "nbformat": 4,
 "nbformat_minor": 4
}
